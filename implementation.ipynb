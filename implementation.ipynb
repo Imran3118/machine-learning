{
  "nbformat": 4,
  "nbformat_minor": 0,
  "metadata": {
    "colab": {
      "provenance": []
    },
    "kernelspec": {
      "name": "python3",
      "display_name": "Python 3"
    },
    "language_info": {
      "name": "python"
    }
  },
  "cells": [
    {
      "cell_type": "code",
      "execution_count": null,
      "metadata": {
        "colab": {
          "base_uri": "https://localhost:8080/"
        },
        "id": "csVBlyHRpst_",
        "outputId": "80631d98-d4e0-49e5-cfd2-2cbc58ed623c"
      },
      "outputs": [
        {
          "output_type": "stream",
          "name": "stdout",
          "text": [
            "[1]\n"
          ]
        }
      ],
      "source": [
        "from sklearn import tree\n",
        "features = [[140,1],[130,1],[150,0],[170,0]]\n",
        "lables = [0,0,1,1]\n",
        "clf = tree.DecisionTreeClassifier()\n",
        "clf = clf.fit(features,lables)\n",
        "output = clf.predict([[150,0]])\n",
        "print(output)"
      ]
    }
  ]
}