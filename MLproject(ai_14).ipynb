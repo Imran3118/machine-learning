{
  "nbformat": 4,
  "nbformat_minor": 0,
  "metadata": {
    "colab": {
      "provenance": []
    },
    "kernelspec": {
      "name": "python3",
      "display_name": "Python 3"
    },
    "language_info": {
      "name": "python"
    }
  },
  "cells": [
    {
      "cell_type": "code",
      "source": [
        "import pandas as pd\n",
        "import numpy as np\n",
        "from sklearn.model_selection import train_test_split\n",
        "from sklearn.preprocessing import LabelEncoder, StandardScaler\n",
        "from sklearn.linear_model import LogisticRegression\n",
        "from sklearn.ensemble import RandomForestClassifier\n",
        "from sklearn.metrics import accuracy_score\n",
        "\n",
        "# Load dataset from the specified path\n",
        "url = r\"/content/50_Startups.csv\"  # Fixing the path issue using raw string\n",
        "df = pd.read_csv(url)\n",
        "\n",
        "# Create target variable: Invest if profit > 120000\n",
        "df['Invest'] = (df['Profit'] > 120000).astype(int)\n",
        "\n",
        "# Encode categorical features ('State' column)\n",
        "le = LabelEncoder()\n",
        "df['State'] = le.fit_transform(df['State'])\n",
        "\n",
        "# Feature matrix and target\n",
        "X = df[['R&D Spend', 'Administration', 'Marketing Spend', 'State']]\n",
        "y = df['Invest']\n",
        "\n",
        "# Train/test split\n",
        "X_train, X_test, y_train, y_test = train_test_split(X, y, test_size=0.2, random_state=42)\n",
        "\n",
        "# Feature scaling for Logistic Regression\n",
        "scaler = StandardScaler()\n",
        "X_train_scaled = scaler.fit_transform(X_train)\n",
        "X_test_scaled = scaler.transform(X_test)\n",
        "\n",
        "# Logistic Regression\n",
        "log_reg = LogisticRegression()\n",
        "log_reg.fit(X_train_scaled, y_train)\n",
        "y_pred_log = log_reg.predict(X_test_scaled)\n",
        "acc_log = accuracy_score(y_test, y_pred_log)\n",
        "\n",
        "# Random Forest (no scaling needed)\n",
        "rf = RandomForestClassifier(n_estimators=100, random_state=42)\n",
        "rf.fit(X_train, y_train)\n",
        "y_pred_rf = rf.predict(X_test)\n",
        "acc_rf = accuracy_score(y_test, y_pred_rf)\n",
        "\n",
        "# Output results\n",
        "print(\"Logistic Regression Accuracy: {:.2f}%\".format(acc_log * 100))\n",
        "print(\"Random Forest Accuracy: {:.2f}%\".format(acc_rf * 100))\n",
        "\n",
        "# Compare and print best\n",
        "if acc_log > acc_rf:\n",
        "    print(\"Logistic Regression is better for this prediction task.\")\n",
        "elif acc_rf > acc_log:\n",
        "    print(\"Random Forest is better for this prediction task.\")\n",
        "else:\n",
        "    print(\"Both models perform equally well.\")\n"
      ],
      "metadata": {
        "colab": {
          "base_uri": "https://localhost:8080/"
        },
        "id": "h9ap51FLOr5A",
        "outputId": "07dcf3d1-76fa-4a0d-f9a6-3fc4497f63d6"
      },
      "execution_count": 12,
      "outputs": [
        {
          "output_type": "stream",
          "name": "stdout",
          "text": [
            "Logistic Regression Accuracy: 80.00%\n",
            "Random Forest Accuracy: 100.00%\n",
            "Random Forest is better for this prediction task.\n"
          ]
        }
      ]
    },
    {
      "cell_type": "code",
      "source": [
        "import pandas as pd\n",
        "import numpy as np\n",
        "from sklearn.model_selection import train_test_split, cross_val_score\n",
        "from sklearn.preprocessing import LabelEncoder, StandardScaler\n",
        "from sklearn.linear_model import LogisticRegression\n",
        "from sklearn.ensemble import RandomForestClassifier\n",
        "from sklearn.metrics import accuracy_score\n",
        "\n",
        "# Load dataset from the specified path\n",
        "url = r\"/content/50_Startups.csv\"  # Ensure correct file path\n",
        "df = pd.read_csv(url)\n",
        "\n",
        "# Create target variable: Invest if profit > 120000\n",
        "df['Invest'] = (df['Profit'] > 120000).astype(int)\n",
        "\n",
        "# Check the class distribution\n",
        "print(df['Invest'].value_counts())\n",
        "\n",
        "# Encode categorical features ('State' column)\n",
        "le = LabelEncoder()\n",
        "df['State'] = le.fit_transform(df['State'])\n",
        "\n",
        "# Feature matrix and target\n",
        "X = df[['R&D Spend', 'Administration', 'Marketing Spend', 'State']]\n",
        "y = df['Invest']\n",
        "\n",
        "# Train/test split with shuffle=True to ensure randomness\n",
        "X_train, X_test, y_train, y_test = train_test_split(X, y, test_size=0.2, random_state=42, shuffle=True)\n",
        "\n",
        "# Feature scaling for Logistic Regression\n",
        "scaler = StandardScaler()\n",
        "X_train_scaled = scaler.fit_transform(X_train)\n",
        "X_test_scaled = scaler.transform(X_test)\n",
        "\n",
        "# Logistic Regression\n",
        "log_reg = LogisticRegression()\n",
        "log_reg.fit(X_train_scaled, y_train)\n",
        "y_pred_log = log_reg.predict(X_test_scaled)\n",
        "acc_log = accuracy_score(y_test, y_pred_log)\n",
        "\n",
        "# Random Forest (no scaling needed)\n",
        "rf = RandomForestClassifier(n_estimators=100, random_state=42)\n",
        "rf.fit(X_train, y_train)\n",
        "y_pred_rf = rf.predict(X_test)\n",
        "acc_rf = accuracy_score(y_test, y_pred_rf)\n",
        "\n",
        "# Cross-validation to check model's stability\n",
        "log_reg_cv_scores = cross_val_score(log_reg, X_train_scaled, y_train, cv=5)\n",
        "rf_cv_scores = cross_val_score(rf, X_train, y_train, cv=5)\n",
        "\n",
        "# Output results\n",
        "print(\"Logistic Regression Accuracy: {:.2f}%\".format(acc_log * 100))\n",
        "print(\"Random Forest Accuracy: {:.2f}%\".format(acc_rf * 100))\n",
        "\n",
        "# Cross-validation results\n",
        "print(\"Logistic Regression Cross-Validation Accuracy: {:.2f}%\".format(log_reg_cv_scores.mean() * 100))\n",
        "print(\"Random Forest Cross-Validation Accuracy: {:.2f}%\".format(rf_cv_scores.mean() * 100))\n",
        "\n",
        "# Compare and print best\n",
        "if acc_log > acc_rf:\n",
        "    print(\"Logistic Regression is better for this prediction task.\")\n",
        "elif acc_rf > acc_log:\n",
        "    print(\"Random Forest is better for this prediction task.\")\n",
        "else:\n",
        "    print(\"Both models perform equally well.\")\n"
      ],
      "metadata": {
        "colab": {
          "base_uri": "https://localhost:8080/"
        },
        "id": "UmuZ2fJJPtqI",
        "outputId": "3e3f4e03-7b39-4141-e0f5-aa3661eb86fa"
      },
      "execution_count": 13,
      "outputs": [
        {
          "output_type": "stream",
          "name": "stdout",
          "text": [
            "Invest\n",
            "0    30\n",
            "1    20\n",
            "Name: count, dtype: int64\n",
            "Logistic Regression Accuracy: 80.00%\n",
            "Random Forest Accuracy: 100.00%\n",
            "Logistic Regression Cross-Validation Accuracy: 90.00%\n",
            "Random Forest Cross-Validation Accuracy: 97.50%\n",
            "Random Forest is better for this prediction task.\n"
          ]
        }
      ]
    }
  ]
}